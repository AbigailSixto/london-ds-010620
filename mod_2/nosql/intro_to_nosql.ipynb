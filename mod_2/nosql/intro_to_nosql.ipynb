{
 "cells": [
  {
   "cell_type": "markdown",
   "metadata": {},
   "source": [
    "<h1 style='text-align:center'>NoSQL - Not Only SQL</h1>"
   ]
  },
  {
   "cell_type": "markdown",
   "metadata": {},
   "source": [
    "## What is MongoDB"
   ]
  },
  {
   "cell_type": "markdown",
   "metadata": {},
   "source": [
    "MongoDB stores data in flexible, JSON-like documents, meaning fields can vary from document to document and data structure can be changed over time"
   ]
  },
  {
   "cell_type": "markdown",
   "metadata": {},
   "source": [
    "<b>Data Structure</b>\n",
    "\n",
    "Single Entry = Document"
   ]
  },
  {
   "cell_type": "markdown",
   "metadata": {},
   "source": [
    "```json\n",
    "{ \n",
    "  _id: ObjectId(8af37bd7891c), \n",
    "  title: 'MongoDB Lab',\n",
    "  description: 'Introductory lab on how to use MongoDB',\n",
    "  by: 'Flatiron School',\n",
    "  topics: ['mongodb', 'database', 'NoSQL', 'JSON']  \n",
    "}\n",
    "```"
   ]
  },
  {
   "cell_type": "markdown",
   "metadata": {},
   "source": [
    "You can embed documents inside documents! "
   ]
  },
  {
   "cell_type": "markdown",
   "metadata": {},
   "source": [
    "<img src ='images/househouse.gif' />"
   ]
  },
  {
   "cell_type": "markdown",
   "metadata": {},
   "source": [
    "```json\n",
    "{ \n",
    "  _id: ObjectId(8af37bd78ssc), \n",
    "  title: 'Other Lab',\n",
    "  description: 'Introductory lab on how to use something',\n",
    "  by: 'Flatiron School',\n",
    "  topics: ['blah', 'blah', 'blah', 'blah'],\n",
    "  author: {\n",
    "            _id: ObjectId(83928shkjw183),\n",
    "            name: 'Andy Enkeboll',\n",
    "            building: 'Metropolitan Square'\n",
    "          }\n",
    "}\n",
    "```"
   ]
  },
  {
   "cell_type": "markdown",
   "metadata": {},
   "source": [
    "##### Why would we want to nest objects? "
   ]
  },
  {
   "cell_type": "markdown",
   "metadata": {},
   "source": [
    "Multiple Documents = Collection"
   ]
  },
  {
   "cell_type": "markdown",
   "metadata": {},
   "source": [
    "```json\n",
    "{ \n",
    "  _id: ObjectId(8af37bd7891c), \n",
    "  title: 'MongoDB Lab',\n",
    "  description: 'Introductory lab on how to use MongoDB',\n",
    "  by: 'Flatiron School',\n",
    "  topics: ['mongodb', 'database', 'NoSQL', 'JSON']  \n",
    "}, \n",
    "{ \n",
    "  _id: ObjectId(8af37bd78ssc), \n",
    "  title: 'Other Lab',\n",
    "  description: 'Introductory lab on how to use something',\n",
    "  by: 'Flatiron School',\n",
    "  topics: ['blah', 'blah', 'blah', 'blah']  \n",
    "}\n",
    "```"
   ]
  },
  {
   "cell_type": "markdown",
   "metadata": {},
   "source": [
    "#### Working with MongoDB"
   ]
  },
  {
   "cell_type": "markdown",
   "metadata": {},
   "source": [
    "Assuming you have installed/setup mongo and pip installed pymongo..."
   ]
  },
  {
   "cell_type": "code",
   "execution_count": null,
   "metadata": {},
   "outputs": [],
   "source": [
    "import pymongo\n",
    "import requests"
   ]
  },
  {
   "cell_type": "code",
   "execution_count": null,
   "metadata": {},
   "outputs": [],
   "source": [
    "myclient = pymongo.MongoClient(\"mongodb://127.0.0.1:27017/\")\n",
    "\n",
    "# grab a database from your server \n",
    "mydb = myclient['example_data']\n",
    "\n",
    "#t his can be a new one or an existing one\n",
    "# (if it doesn't exist, it will get create when you write data into it)"
   ]
  },
  {
   "cell_type": "code",
   "execution_count": null,
   "metadata": {},
   "outputs": [],
   "source": [
    "myclient.list_database_names()"
   ]
  },
  {
   "cell_type": "code",
   "execution_count": null,
   "metadata": {},
   "outputs": [],
   "source": [
    "# initialize an empty collection - this where your 'documents' will go\n",
    "mycollection = mydb['example_collection']"
   ]
  },
  {
   "cell_type": "code",
   "execution_count": null,
   "metadata": {},
   "outputs": [],
   "source": [
    "mydb.list_collection_names()"
   ]
  },
  {
   "cell_type": "code",
   "execution_count": null,
   "metadata": {},
   "outputs": [],
   "source": [
    "example_data = {'name': 'Jazz Doe', 'address': '123 Kings Street',\n",
    "                'age': 28, 'children': ['Jane', 'Joe']}\n",
    "mycollection.insert_one(example_data)"
   ]
  },
  {
   "cell_type": "code",
   "execution_count": null,
   "metadata": {},
   "outputs": [],
   "source": [
    "#get all the documents in a collection\n",
    "query = mycollection.find({})"
   ]
  },
  {
   "cell_type": "code",
   "execution_count": null,
   "metadata": {},
   "outputs": [],
   "source": [
    "for document in query:\n",
    "    print(document)"
   ]
  },
  {
   "cell_type": "code",
   "execution_count": null,
   "metadata": {},
   "outputs": [],
   "source": [
    "example_data_2 = [\n",
    "    {'name': 'Andy', 'address': 'Cornwall'},\n",
    "    {'name': 'Marisa', 'address': 'London'},\n",
    "    {'name': 'Ammar'}\n",
    "                  ]\n",
    "mycollection.insert_many(example_data_2)"
   ]
  },
  {
   "cell_type": "code",
   "execution_count": null,
   "metadata": {},
   "outputs": [],
   "source": [
    "query_1 = mycollection.find({})"
   ]
  },
  {
   "cell_type": "code",
   "execution_count": null,
   "metadata": {
    "scrolled": true
   },
   "outputs": [],
   "source": [
    "for document in query_1:\n",
    "    print(document)"
   ]
  },
  {
   "cell_type": "code",
   "execution_count": null,
   "metadata": {},
   "outputs": [],
   "source": [
    "query_2 = mycollection.find({'name': 'Jazz Doe'})"
   ]
  },
  {
   "cell_type": "code",
   "execution_count": null,
   "metadata": {
    "scrolled": true
   },
   "outputs": [],
   "source": [
    "for document in query_2:\n",
    "    print(document)"
   ]
  },
  {
   "cell_type": "code",
   "execution_count": null,
   "metadata": {},
   "outputs": [],
   "source": [
    "#updating records is super easy! \n",
    "record_to_update = {'name' : 'Jazz Doe'}\n",
    "update_1 = {'$set': {'age': 29, 'birthday': '2/8/1990'}}\n",
    "\n",
    "mycollection.update_many(record_to_update, update_1)"
   ]
  },
  {
   "cell_type": "code",
   "execution_count": null,
   "metadata": {},
   "outputs": [],
   "source": [
    "#searching in a list in a document\n",
    "query_4 = mycollection.find({'children': 'Jane'})\n",
    "for item in query_4:\n",
    "    print(item)"
   ]
  },
  {
   "cell_type": "code",
   "execution_count": null,
   "metadata": {},
   "outputs": [],
   "source": [
    "#removing a key:value from a document\n",
    "update_2 = {'$unset': {'birthday': ''}}\n",
    "\n",
    "mycollection.update_many(record_to_update, update_2)"
   ]
  },
  {
   "cell_type": "code",
   "execution_count": null,
   "metadata": {},
   "outputs": [],
   "source": [
    "query_5 = mycollection.find({'name': 'Jazz Doe'})\n",
    "for item in query_5:\n",
    "    print(item)"
   ]
  },
  {
   "cell_type": "code",
   "execution_count": null,
   "metadata": {},
   "outputs": [],
   "source": [
    "#delete record\n",
    "mycollection.delete_one({'name' : 'Jazz Doe'})"
   ]
  },
  {
   "cell_type": "code",
   "execution_count": null,
   "metadata": {},
   "outputs": [],
   "source": [
    "#delete all records\n",
    "mycollection.delete_many({})"
   ]
  },
  {
   "cell_type": "markdown",
   "metadata": {},
   "source": [
    "### Working with Images"
   ]
  },
  {
   "cell_type": "code",
   "execution_count": null,
   "metadata": {},
   "outputs": [],
   "source": [
    "resp = requests.get('https://upload.wikimedia.org/wikipedia/commons/thumb/8/82/Kobe_Bryant_2015.jpg/440px-Kobe_Bryant_2015.jpg')"
   ]
  },
  {
   "cell_type": "code",
   "execution_count": null,
   "metadata": {},
   "outputs": [],
   "source": [
    "img = resp.content\n",
    "newcollection = mydb['newcollection']\n",
    "# img\n",
    "# len(img)"
   ]
  },
  {
   "cell_type": "code",
   "execution_count": null,
   "metadata": {},
   "outputs": [],
   "source": [
    "from IPython.display import Image\n",
    "Image(resp.content)"
   ]
  },
  {
   "cell_type": "code",
   "execution_count": null,
   "metadata": {},
   "outputs": [],
   "source": [
    "anewdict = {'a': 4, 'image': img}\n",
    "newcollection.insert_one(anewdict)"
   ]
  },
  {
   "cell_type": "code",
   "execution_count": null,
   "metadata": {},
   "outputs": [],
   "source": [
    "_.inserted_id"
   ]
  },
  {
   "cell_type": "code",
   "execution_count": null,
   "metadata": {},
   "outputs": [],
   "source": [
    "results = newcollection.find_one({'_id': _})\n",
    "newimg = results.get('image')\n",
    "\n",
    "len(newimg)\n",
    "Image(newimg)\n",
    "\n",
    "with open('./mongo.jpg', 'wb') as f:\n",
    "    f.write(newimg)"
   ]
  },
  {
   "cell_type": "code",
   "execution_count": null,
   "metadata": {},
   "outputs": [],
   "source": []
  }
 ],
 "metadata": {
  "kernelspec": {
   "display_name": "Python 3",
   "language": "python",
   "name": "python3"
  },
  "language_info": {
   "codemirror_mode": {
    "name": "ipython",
    "version": 3
   },
   "file_extension": ".py",
   "mimetype": "text/x-python",
   "name": "python",
   "nbconvert_exporter": "python",
   "pygments_lexer": "ipython3",
   "version": "3.7.0"
  }
 },
 "nbformat": 4,
 "nbformat_minor": 4
}
